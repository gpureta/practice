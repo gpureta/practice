{
 "cells": [
  {
   "cell_type": "code",
   "execution_count": 2,
   "metadata": {},
   "outputs": [],
   "source": [
    "import numpy as np\n",
    "x = np.array([1,1])  #initial guess\n",
    "eps=0.000001\n",
    "iteration_counter = 0\n",
    "max_iter = 100\n",
    "F_norm = 1  #error\n",
    "F = np.array([3*x[0]**2 - x[1]**2,3*x[0]*x[1]**2 - x[0]**3 - 1]) #this is the F(x) matrix\n",
    "J = np.array([[6*x[0], 0 - 2*x[1]],[3*x[1]**2 - 3*x[0]**2, 6*x[0]*x[1]]]) #this is the Jacobian of F(x)\n"
   ]
  },
  {
   "cell_type": "code",
   "execution_count": 3,
   "metadata": {},
   "outputs": [
    {
     "name": "stdout",
     "output_type": "stream",
     "text": [
      "iteration number: 1\n",
      "x1 and x2 are  [0.61111111 0.83333333]\n",
      "delta = [-0.38888889 -0.16666667]\n",
      "Norm = 0.3888888888888889\n",
      "iteration number: 2\n",
      "x1 and x2 are  [0.50365908 0.85249442]\n",
      "delta = [-0.10745203  0.01916109]\n",
      "Norm = 0.10745203034359664\n",
      "iteration number: 3\n",
      "x1 and x2 are  [0.49996412 0.86604564]\n",
      "delta = [-0.00369496  0.01355121]\n",
      "Norm = 0.013551214255647868\n",
      "iteration number: 4\n",
      "x1 and x2 are  [0.5       0.8660254]\n",
      "delta = [ 3.58789417e-05 -2.02345716e-05]\n",
      "Norm = 3.58789417495166e-05\n",
      "iteration number: 5\n",
      "x1 and x2 are  [0.5       0.8660254]\n",
      "delta = [-1.49198339e-11  1.96743539e-09]\n",
      "Norm = 1.967435385331197e-09\n",
      "final x1 and x2 are [0.5       0.8660254]\n",
      "total iterations= 5\n"
     ]
    }
   ],
   "source": [
    "while abs(F_norm)>eps and iteration_counter < max_iter:\n",
    "    delta = np.linalg.solve(J, -F)\n",
    "    x = x + delta\n",
    "    F = np.array([3*x[0]**2 - x[1]**2,3*x[0]*x[1]**2 - x[0]**3 - 1])\n",
    "    J = np.array([[6*x[0], 0 - 2*x[1]],[3*x[1]**2 - 3*x[0]**2, 6*x[0]*x[1]]])\n",
    "    F_norm = np.linalg.norm(delta, ord=np.inf) #solves the error\n",
    "    iteration_counter += 1\n",
    "    print(\"iteration number:\", iteration_counter )\n",
    "    print(\"x1 and x2 are \", x)\n",
    "    print(\"delta =\", delta)\n",
    "    print(\"Norm =\", F_norm)\n",
    "    \n",
    "#if maximum number of iterations are achieved,this just fixes the iteration counter\n",
    "if abs(F_norm) > eps:\n",
    "        iteration_counter = -1\n",
    "   \n",
    "print(\"final x1 and x2 are\",x)\n",
    "print(\"total iterations=\",iteration_counter)"
   ]
  }
 ],
 "metadata": {
  "kernelspec": {
   "display_name": "Python 3",
   "language": "python",
   "name": "python3"
  },
  "language_info": {
   "codemirror_mode": {
    "name": "ipython",
    "version": 3
   },
   "file_extension": ".py",
   "mimetype": "text/x-python",
   "name": "python",
   "nbconvert_exporter": "python",
   "pygments_lexer": "ipython3",
   "version": "3.7.1"
  }
 },
 "nbformat": 4,
 "nbformat_minor": 2
}
