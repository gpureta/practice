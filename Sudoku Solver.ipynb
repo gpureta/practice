{
 "cells": [
  {
   "cell_type": "code",
   "execution_count": 60,
   "metadata": {},
   "outputs": [
    {
     "name": "stdout",
     "output_type": "stream",
     "text": [
      "Hello lol!\n"
     ]
    }
   ],
   "source": [
    "# import sleep to show output for some time period \n",
    "from time import sleep  \n",
    "from IPython.display import clear_output\n",
    "\n",
    "print(\"Hello World!\")\n",
    "sleep(2) \n",
    "clear_output(wait=True)\n",
    "print(\"Hello lol!\")\n",
    "\n",
    "\n"
   ]
  },
  {
   "cell_type": "code",
   "execution_count": 71,
   "metadata": {},
   "outputs": [],
   "source": [
    "import numpy as np\n",
    "#sudoku puzzle, '0' as blank \n",
    "puzzle1 =np.array([[2,5,7,8,0,1,0,4,0],\n",
    "                   [9,8,0,6,7,0,5,0,1],\n",
    "                   [0,0,3,5,4,0,0,2,0],\n",
    "                   [0,3,0,0,5,0,0,0,6],\n",
    "                   [7,0,0,0,9,0,2,1,0],\n",
    "                   [0,0,0,2,0,4,7,0,3],\n",
    "                   [0,0,8,0,1,5,9,0,0],\n",
    "                   [0,6,1,0,0,8,0,0,0],\n",
    "                   [4,0,9,0,6,0,0,0,5] ])\n",
    "puzzle2 = np.array([ [5,1,7,6,0,0,0,3,4],\n",
    "                     [2,8,9,0,0,4,0,0,0],\n",
    "                     [3,4,6,2,0,5,0,9,0],\n",
    "                     [6,0,2,0,0,0,0,1,0],\n",
    "                     [0,3,8,0,0,6,0,4,7],\n",
    "                     [0,0,0,0,0,0,0,0,0],\n",
    "                     [0,9,0,0,0,0,0,7,8],\n",
    "                     [7,0,3,4,0,0,5,6,0],\n",
    "                     [0,0,0,0,0,0,0,0,0]])\n"
   ]
  },
  {
   "cell_type": "code",
   "execution_count": 3,
   "metadata": {},
   "outputs": [],
   "source": [
    "#this function checks if the guess'z' for the row y, column x is possible by checking the x and y axis and subgrid\n",
    "\n",
    "def possible(y,x,z,puzzle):\n",
    "    #checks for possible duplicates of attempt 'z' in row 'y'\n",
    "    for i in range(0,9):\n",
    "        if puzzle[y,i] == z:\n",
    "            return False\n",
    "    #checks for possible duplicates of attempt 'z' in row 'x'\n",
    "    for i in range(0,9):\n",
    "        if puzzle[i,x] == z:\n",
    "            return False\n",
    "    #checks for possible duplicates of attempt 'z' in subgrid\n",
    "    for k,l in zip(range(0,7,3),range(3,10,3)):          #creates subgrid rows 0-2,3-5,6-8\n",
    "        for i,j in zip(range(0,7,3),range(3,10,3)):      #creates subgrid columns 0-2,3-5,6-8\n",
    "            if k<= y < l and i<= x < j:                  #if guess 'z' is located in this subgrid...\n",
    "                subgrid =puzzle[k:l,i:j]\n",
    "                if z in set(subgrid.flat):               #if guess 'z' has a duplicate in subgrid\n",
    "                    return False\n",
    "    \n",
    "    return True\n",
    "\n"
   ]
  },
  {
   "cell_type": "code",
   "execution_count": 73,
   "metadata": {},
   "outputs": [],
   "source": [
    "#this function solves the sudoku puzzle array 'sudoku'\n",
    "#attempt counter is the number of times a sudoku element is guessed in an empty space. just enter \"0\" to start\n",
    "def solve(sudoku,attempt_counter):\n",
    "    sudoku_solved = sudoku\n",
    "    for y in range(9):\n",
    "        for x in range(9):\n",
    "            if sudoku_solved[y,x]==0:                           #checks if there is an empty space in row 'y', column 'x'\n",
    "                for i in range(0,10):\n",
    "                    if possible(y,x,i,sudoku_solved):\n",
    "                        #clear_output(wait=True)\n",
    "                        #print(sudoku_solved)\n",
    "                        sudoku_solved[y,x] = i                  #if there is an empty space, attempt 'i' if 'i' is possible\n",
    "                        #sleep(0.1) \n",
    "                        #clear_output(wait=True)\n",
    "                        #print(sudoku_solved)\n",
    "                        attempt_counter += 1\n",
    "                        solve(sudoku_solved,attempt_counter)    #run solve() again for the next empty space \n",
    "                        sudoku_solved[y,x] = 0                  #returns attempt 'i' to zero if the previous solve function failed to find a possible attempt for the next zero and is returned\n",
    "                return                                          #if attempt 'i'is no longer possible, return to previous solve function\n",
    "    print(sudoku_solved)                                        #print solved sudoku there are no more blank spaces\n",
    "    print(attempt_counter)\n",
    "   "
   ]
  },
  {
   "cell_type": "code",
   "execution_count": 74,
   "metadata": {},
   "outputs": [
    {
     "name": "stdout",
     "output_type": "stream",
     "text": [
      "[[2 5 7 8 3 1 6 4 9]\n",
      " [9 8 4 6 7 2 5 3 1]\n",
      " [6 1 3 5 4 9 8 2 7]\n",
      " [8 3 2 1 5 7 4 9 6]\n",
      " [7 4 5 3 9 6 2 1 8]\n",
      " [1 9 6 2 8 4 7 5 3]\n",
      " [3 7 8 4 1 5 9 6 2]\n",
      " [5 6 1 9 2 8 3 7 4]\n",
      " [4 2 9 7 6 3 1 8 5]]\n",
      "47\n"
     ]
    }
   ],
   "source": [
    "solve(puzzle1,0)\n"
   ]
  },
  {
   "cell_type": "code",
   "execution_count": 75,
   "metadata": {},
   "outputs": [
    {
     "name": "stdout",
     "output_type": "stream",
     "text": [
      "[[5 1 7 6 9 8 2 3 4]\n",
      " [2 8 9 1 3 4 7 5 6]\n",
      " [3 4 6 2 7 5 8 9 1]\n",
      " [6 7 2 8 4 9 3 1 5]\n",
      " [1 3 8 5 2 6 9 4 7]\n",
      " [9 5 4 7 1 3 6 8 2]\n",
      " [4 9 5 3 6 2 1 7 8]\n",
      " [7 2 3 4 8 1 5 6 9]\n",
      " [8 6 1 9 5 7 4 2 3]]\n",
      "61\n"
     ]
    }
   ],
   "source": [
    "solve(puzzle2,0)\n"
   ]
  }
 ],
 "metadata": {
  "kernelspec": {
   "display_name": "Python 3",
   "language": "python",
   "name": "python3"
  },
  "language_info": {
   "codemirror_mode": {
    "name": "ipython",
    "version": 3
   },
   "file_extension": ".py",
   "mimetype": "text/x-python",
   "name": "python",
   "nbconvert_exporter": "python",
   "pygments_lexer": "ipython3",
   "version": "3.7.1"
  }
 },
 "nbformat": 4,
 "nbformat_minor": 2
}
